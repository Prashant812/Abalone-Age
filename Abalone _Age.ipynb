{
 "cells": [
  {
   "cell_type": "markdown",
   "metadata": {},
   "source": [
    "# Abalone's age prediction using Regression"
   ]
  },
  {
   "cell_type": "code",
   "execution_count": 1,
   "metadata": {},
   "outputs": [],
   "source": [
    "import pandas as pd\n",
    "import numpy as np\n",
    "import matplotlib.pyplot as plt\n",
    "from sklearn.model_selection import train_test_split\n",
    "from math import sqrt\n",
    "from sklearn.metrics import mean_squared_error\n",
    "from sklearn.linear_model import LinearRegression \n",
    "from sklearn.preprocessing import PolynomialFeatures\n",
    "import pickle"
   ]
  },
  {
   "cell_type": "markdown",
   "metadata": {},
   "source": [
    "Using 'abalone.csv' file :-"
   ]
  },
  {
   "cell_type": "code",
   "execution_count": 2,
   "metadata": {},
   "outputs": [
    {
     "data": {
      "text/html": [
       "<div>\n",
       "<style scoped>\n",
       "    .dataframe tbody tr th:only-of-type {\n",
       "        vertical-align: middle;\n",
       "    }\n",
       "\n",
       "    .dataframe tbody tr th {\n",
       "        vertical-align: top;\n",
       "    }\n",
       "\n",
       "    .dataframe thead th {\n",
       "        text-align: right;\n",
       "    }\n",
       "</style>\n",
       "<table border=\"1\" class=\"dataframe\">\n",
       "  <thead>\n",
       "    <tr style=\"text-align: right;\">\n",
       "      <th></th>\n",
       "      <th>Length</th>\n",
       "      <th>Diameter</th>\n",
       "      <th>Height</th>\n",
       "      <th>Whole weight</th>\n",
       "      <th>Shucked weight</th>\n",
       "      <th>Viscera weight</th>\n",
       "      <th>Shell weight</th>\n",
       "      <th>Rings</th>\n",
       "    </tr>\n",
       "  </thead>\n",
       "  <tbody>\n",
       "    <tr>\n",
       "      <th>0</th>\n",
       "      <td>0.455</td>\n",
       "      <td>0.365</td>\n",
       "      <td>0.095</td>\n",
       "      <td>0.5140</td>\n",
       "      <td>0.2245</td>\n",
       "      <td>0.1010</td>\n",
       "      <td>0.150</td>\n",
       "      <td>15</td>\n",
       "    </tr>\n",
       "    <tr>\n",
       "      <th>1</th>\n",
       "      <td>0.350</td>\n",
       "      <td>0.265</td>\n",
       "      <td>0.090</td>\n",
       "      <td>0.2255</td>\n",
       "      <td>0.0995</td>\n",
       "      <td>0.0485</td>\n",
       "      <td>0.070</td>\n",
       "      <td>7</td>\n",
       "    </tr>\n",
       "    <tr>\n",
       "      <th>2</th>\n",
       "      <td>0.530</td>\n",
       "      <td>0.420</td>\n",
       "      <td>0.135</td>\n",
       "      <td>0.6770</td>\n",
       "      <td>0.2565</td>\n",
       "      <td>0.1415</td>\n",
       "      <td>0.210</td>\n",
       "      <td>9</td>\n",
       "    </tr>\n",
       "    <tr>\n",
       "      <th>3</th>\n",
       "      <td>0.440</td>\n",
       "      <td>0.365</td>\n",
       "      <td>0.125</td>\n",
       "      <td>0.5160</td>\n",
       "      <td>0.2155</td>\n",
       "      <td>0.1140</td>\n",
       "      <td>0.155</td>\n",
       "      <td>10</td>\n",
       "    </tr>\n",
       "    <tr>\n",
       "      <th>4</th>\n",
       "      <td>0.330</td>\n",
       "      <td>0.255</td>\n",
       "      <td>0.080</td>\n",
       "      <td>0.2050</td>\n",
       "      <td>0.0895</td>\n",
       "      <td>0.0395</td>\n",
       "      <td>0.055</td>\n",
       "      <td>7</td>\n",
       "    </tr>\n",
       "  </tbody>\n",
       "</table>\n",
       "</div>"
      ],
      "text/plain": [
       "   Length  Diameter  Height  Whole weight  Shucked weight  Viscera weight  \\\n",
       "0   0.455     0.365   0.095        0.5140          0.2245          0.1010   \n",
       "1   0.350     0.265   0.090        0.2255          0.0995          0.0485   \n",
       "2   0.530     0.420   0.135        0.6770          0.2565          0.1415   \n",
       "3   0.440     0.365   0.125        0.5160          0.2155          0.1140   \n",
       "4   0.330     0.255   0.080        0.2050          0.0895          0.0395   \n",
       "\n",
       "   Shell weight  Rings  \n",
       "0         0.150     15  \n",
       "1         0.070      7  \n",
       "2         0.210      9  \n",
       "3         0.155     10  \n",
       "4         0.055      7  "
      ]
     },
     "execution_count": 2,
     "metadata": {},
     "output_type": "execute_result"
    }
   ],
   "source": [
    "df = pd.read_csv('abalone.csv')\n",
    "df.head()"
   ]
  },
  {
   "cell_type": "markdown",
   "metadata": {},
   "source": [
    "Splitting the data into test and train"
   ]
  },
  {
   "cell_type": "code",
   "execution_count": 3,
   "metadata": {},
   "outputs": [],
   "source": [
    "[X_train, X_test] =train_test_split(df, test_size=0.30, random_state=42, shuffle = True)"
   ]
  },
  {
   "cell_type": "markdown",
   "metadata": {},
   "source": [
    "Saving the training and testing data in CSV files"
   ]
  },
  {
   "cell_type": "code",
   "execution_count": 4,
   "metadata": {},
   "outputs": [],
   "source": [
    "X_train.to_csv(\"abalone-train.csv\",index = False)\n",
    "X_test.to_csv(\"abalone-test.csv\",index = False)"
   ]
  },
  {
   "cell_type": "markdown",
   "metadata": {},
   "source": [
    "Finding the attribute which has the highest Pearson correlation coefficient with the target attribute \n",
    "Rings"
   ]
  },
  {
   "cell_type": "code",
   "execution_count": 5,
   "metadata": {},
   "outputs": [
    {
     "name": "stdout",
     "output_type": "stream",
     "text": [
      "Length            0.556720\n",
      "Diameter          0.574660\n",
      "Height            0.557467\n",
      "Whole weight      0.540390\n",
      "Shucked weight    0.420884\n",
      "Viscera weight    0.503819\n",
      "Shell weight      0.627574\n",
      "Rings             1.000000\n",
      "Name: Rings, dtype: float64\n"
     ]
    }
   ],
   "source": [
    "corr = df.corr(method = 'pearson')\n",
    "print(corr['Rings'])"
   ]
  },
  {
   "cell_type": "markdown",
   "metadata": {},
   "source": [
    "# Linear Regression"
   ]
  },
  {
   "cell_type": "markdown",
   "metadata": {},
   "source": [
    "Function for simple linear (straight-line) regression model to predict \n",
    "rings"
   ]
  },
  {
   "cell_type": "code",
   "execution_count": 6,
   "metadata": {},
   "outputs": [],
   "source": [
    "def linear_fit(data):\n",
    "    regressor = LinearRegression()\n",
    "    shell_weight = np.array(data['Shell weight'])\n",
    "    shell_weight = shell_weight.reshape(-1,1)\n",
    "    Rings = np.array(data['Rings'])\n",
    "    Rings = Rings.reshape(-1,1)\n",
    "    regressor.fit(shell_weight, Rings)\n",
    "    y_pred = regressor.predict(shell_weight)\n",
    "    return y_pred"
   ]
  },
  {
   "cell_type": "markdown",
   "metadata": {},
   "source": [
    "Best fit line between 'Shell weight' and 'Rings'"
   ]
  },
  {
   "cell_type": "code",
   "execution_count": 7,
   "metadata": {},
   "outputs": [
    {
     "data": {
      "image/png": "[encoded data removed]",
      "text/plain": [
       "<Figure size 432x288 with 1 Axes>"
      ]
     },
     "metadata": {
      "needs_background": "light"
     },
     "output_type": "display_data"
    }
   ],
   "source": [
    "plt.title(\"Best Fit\")\n",
    "plt.xlabel(\"Shell weight\")\n",
    "plt.ylabel(\"Rings\")\n",
    "plt.plot(X_train['Shell weight'], linear_fit(X_train))\n",
    "plt.show()"
   ]
  },
  {
   "cell_type": "markdown",
   "metadata": {},
   "source": [
    " The prediction accuracy on the training and data using root mean squared error"
   ]
  },
  {
   "cell_type": "code",
   "execution_count": 8,
   "metadata": {},
   "outputs": [
    {
     "name": "stdout",
     "output_type": "stream",
     "text": [
      "RMSE Error for Linear Regression, Train data is : 2.53\n",
      "RMSE Error for Linear Regression, Test data is : 2.47\n"
     ]
    }
   ],
   "source": [
    "error_train = sqrt(mean_squared_error(X_train['Rings'], linear_fit(X_train))) #computing the error in train data\n",
    "error_test = sqrt(mean_squared_error(X_test['Rings'],linear_fit(X_test)))#computing the error in test data\n",
    "print(\"RMSE Error for Linear Regression, Train data is : %.2f\"%(error_train))\n",
    "print(\"RMSE Error for Linear Regression, Test data is : %.2f\"%(error_test))"
   ]
  },
  {
   "cell_type": "markdown",
   "metadata": {},
   "source": [
    " The scatter plot of actual Rings (x-axis) vs predicted Rings (y-axis) on the test data :-"
   ]
  },
  {
   "cell_type": "code",
   "execution_count": 9,
   "metadata": {},
   "outputs": [
    {
     "data": {
      "image/png": "[encoded data removed]",
      "text/plain": [
       "<Figure size 432x288 with 1 Axes>"
      ]
     },
     "metadata": {
      "needs_background": "light"
     },
     "output_type": "display_data"
    }
   ],
   "source": [
    "plt.title(\"Scatter Plot\") \n",
    "plt.xlabel(\"Rings(Actual)\")\n",
    "plt.ylabel(\"Rings(Predicted)\")\n",
    "plt.scatter(X_test['Rings'], linear_fit(X_test))\n",
    "plt.show()"
   ]
  },
  {
   "cell_type": "markdown",
   "metadata": {},
   "source": [
    "# Multivariate Linear Regression Model"
   ]
  },
  {
   "cell_type": "markdown",
   "metadata": {},
   "source": [
    "Function for Multivariate linear regression model to predict rings"
   ]
  },
  {
   "cell_type": "code",
   "execution_count": 10,
   "metadata": {},
   "outputs": [],
   "source": [
    "def multiple_fit(data):\n",
    "    regressor = LinearRegression()\n",
    "    input_var = np.array(data.iloc[:,:-1])\n",
    "    target = np.array(data.iloc[:,-1])\n",
    "    regressor.fit(input_var,target)\n",
    "    pred = regressor.predict(input_var)\n",
    "    return pred"
   ]
  },
  {
   "cell_type": "markdown",
   "metadata": {},
   "source": [
    "The prediction accuracy on the training and data using root mean squared error :-"
   ]
  },
  {
   "cell_type": "code",
   "execution_count": 11,
   "metadata": {},
   "outputs": [
    {
     "name": "stdout",
     "output_type": "stream",
     "text": [
      "RMSE Error for Multiple Regression, Train data is : 2.22\n",
      "RMSE Error for Multiple Regression, Test data is : 2.21\n"
     ]
    }
   ],
   "source": [
    "multiple_error_train = sqrt(mean_squared_error(X_train['Rings'], multiple_fit(X_train))) #computing the error in train data\n",
    "multiple_error_test = sqrt(mean_squared_error(X_test['Rings'],multiple_fit(X_test)))#computing the error in test data\n",
    "print(\"RMSE Error for Multiple Regression, Train data is : %.2f\"%(multiple_error_train))\n",
    "print(\"RMSE Error for Multiple Regression, Test data is : %.2f\"%(multiple_error_test))"
   ]
  },
  {
   "cell_type": "markdown",
   "metadata": {},
   "source": [
    "The scatter plot of actual Rings (x-axis) vs predicted Rings (y-axis) on the test data :-"
   ]
  },
  {
   "cell_type": "code",
   "execution_count": 12,
   "metadata": {},
   "outputs": [
    {
     "data": {
      "image/png": "[encoded data removed]",
      "text/plain": [
       "<Figure size 432x288 with 1 Axes>"
      ]
     },
     "metadata": {
      "needs_background": "light"
     },
     "output_type": "display_data"
    }
   ],
   "source": [
    "plt.title(\"Scatter Plot for multivariate regression\")\n",
    "plt.xlabel(\"Rings(Actual)\")\n",
    "plt.ylabel(\"Rings(Predicted)\")\n",
    "plt.scatter(X_test['Rings'], multiple_fit(X_test))\n",
    "plt.show()"
   ]
  },
  {
   "cell_type": "markdown",
   "metadata": {},
   "source": [
    "# Simple Nonlinear Regression Model"
   ]
  },
  {
   "cell_type": "markdown",
   "metadata": {},
   "source": [
    "Simple nonlinear regression model using polynomial curve fitting \n",
    "to predict Rings :-"
   ]
  },
  {
   "cell_type": "code",
   "execution_count": 13,
   "metadata": {},
   "outputs": [],
   "source": [
    "def poly_pred(data):#Function for prediction of data\n",
    "    l = []\n",
    "    for i in [2,3,4,5]:\n",
    "        polynomial_features = PolynomialFeatures(degree = i)\n",
    "        shell_weight = np.array(data['Shell weight'])\n",
    "        shell_weight = shell_weight.reshape(-1,1)\n",
    "        Rings = np.array(data['Rings'])\n",
    "        Rings = Rings.reshape(-1,1)\n",
    "        x_poly = polynomial_features.fit_transform(shell_weight)\n",
    "        regressor = LinearRegression()\n",
    "        regressor.fit(x_poly, Rings)\n",
    "        y_pred = regressor.predict(x_poly)\n",
    "        error = sqrt(mean_squared_error(data['Rings'], y_pred))\n",
    "        l.append(error)\n",
    "    ls = [round(x,3) for x in l]\n",
    "    return [ls,y_pred]"
   ]
  },
  {
   "cell_type": "markdown",
   "metadata": {},
   "source": [
    "Prediction accuracy on the training and test data for the different values of degree of \n",
    "the polynomial (p = 2, 3, 4, 5) using root mean squared error (RMSE)"
   ]
  },
  {
   "cell_type": "code",
   "execution_count": 14,
   "metadata": {},
   "outputs": [
    {
     "name": "stdout",
     "output_type": "stream",
     "text": [
      "\n",
      "RMSE for Training data :-\n",
      "RMSE Error for p = 2 is 2.50\n",
      "RMSE Error for p = 3 is 2.48\n",
      "RMSE Error for p = 4 is 2.47\n",
      "RMSE Error for p = 5 is 2.47\n",
      "\n",
      "RMSE for Test data :-\n",
      "RMSE Error for p = 2 is 2.43\n",
      "RMSE Error for p = 3 is 2.41\n",
      "RMSE Error for p = 4 is 2.41\n",
      "RMSE Error for p = 5 is 2.41\n"
     ]
    }
   ],
   "source": [
    "p = [2,3,4,5]\n",
    "print(\"\\nRMSE for Training data :-\")\n",
    "for i in range(len(p)):\n",
    "    print(\"RMSE Error for p = %d is %.2f\"%(p[i],poly_pred(X_train)[0][i]))\n",
    "print(\"\\nRMSE for Test data :-\")\n",
    "for i in range(len(p)):\n",
    "    print(\"RMSE Error for p = %d is %.2f\"%(p[i],poly_pred(X_test)[0][i]))"
   ]
  },
  {
   "cell_type": "markdown",
   "metadata": {},
   "source": [
    "Plotting the RMSE vs degree of polynomial graph :-"
   ]
  },
  {
   "cell_type": "code",
   "execution_count": 15,
   "metadata": {},
   "outputs": [
    {
     "data": {
      "image/png": "[encoded data removed]",
      "text/plain": [
       "<Figure size 432x288 with 1 Axes>"
      ]
     },
     "metadata": {
      "needs_background": "light"
     },
     "output_type": "display_data"
    },
    {
     "data": {
      "image/png": "[encoded data removed]",
      "text/plain": [
       "<Figure size 432x288 with 1 Axes>"
      ]
     },
     "metadata": {
      "needs_background": "light"
     },
     "output_type": "display_data"
    }
   ],
   "source": [
    "def plot2(data,x,y): #function for plotting RMSE vs degree of polynomial\n",
    "    plt.title('Bar graph of RMSE vs degree of polynomial for %s'%(data))\n",
    "    plt.xlabel('Degree of polynomial')\n",
    "    plt.ylabel('RMSE')\n",
    "    plt.bar(x, y, color = 'orange', width = .50)\n",
    "    plt.show()\n",
    "    \n",
    "plot2('Traning Data',[2,3,4,5],poly_pred(X_train)[0])\n",
    "plot2('Test Data',[2,3,4,5],poly_pred(X_test)[0])"
   ]
  },
  {
   "cell_type": "markdown",
   "metadata": {},
   "source": [
    "Plotting the best fit curve using the best fit model on the training data :-"
   ]
  },
  {
   "cell_type": "code",
   "execution_count": 16,
   "metadata": {},
   "outputs": [
    {
     "data": {
      "image/png": "[encoded data removed]",
      "text/plain": [
       "<Figure size 432x288 with 1 Axes>"
      ]
     },
     "metadata": {
      "needs_background": "light"
     },
     "output_type": "display_data"
    }
   ],
   "source": [
    "plt.title('Best Fit Polynomial') #plotting scatter plot for best fit polynomial\n",
    "plt.xlabel('Shell weight')\n",
    "plt.ylabel(\"Predicted Rings\")\n",
    "plt.scatter(X_train['Shell weight'],poly_pred(X_train)[1])\n",
    "plt.show()"
   ]
  },
  {
   "cell_type": "markdown",
   "metadata": {},
   "source": [
    "Plotting the scatter plot of the actual number of Rings (x-axis) vs the predicted number of \n",
    "Rings (y-axis) on the test data for the best degree of the polynomial (p) :-"
   ]
  },
  {
   "cell_type": "code",
   "execution_count": 17,
   "metadata": {},
   "outputs": [
    {
     "data": {
      "image/png": "[encoded data removed]",
      "text/plain": [
       "<Figure size 432x288 with 1 Axes>"
      ]
     },
     "metadata": {
      "needs_background": "light"
     },
     "output_type": "display_data"
    }
   ],
   "source": [
    "plt.title('Predicted vs Real')\n",
    "plt.xlabel('Actual Rings')\n",
    "plt.ylabel(\"Predicted Rings\")\n",
    "plt.scatter(X_test['Rings'],poly_pred(X_test)[1])\n",
    "plt.show()"
   ]
  },
  {
   "cell_type": "markdown",
   "metadata": {},
   "source": [
    "# Multivariate Nonlinear Regression Model"
   ]
  },
  {
   "cell_type": "markdown",
   "metadata": {},
   "source": [
    "Multivariate nonlinear regression model using polynomial regression to predict Rings :-"
   ]
  },
  {
   "cell_type": "code",
   "execution_count": 18,
   "metadata": {},
   "outputs": [],
   "source": [
    "def multi_poly_pred(data):#Function for prediction of data\n",
    "    l = []\n",
    "    for i in [2,3,4,5]:\n",
    "        polynomial_features = PolynomialFeatures(degree = i)\n",
    "        input_var = np.array(data.iloc[:,:-1])\n",
    "        x_poly = polynomial_features.fit_transform(input_var)\n",
    "        Rings = np.array(data['Rings'])\n",
    "        regressor = LinearRegression()\n",
    "        regressor.fit(x_poly, Rings)\n",
    "        y_pred = regressor.predict(x_poly)\n",
    "        error = sqrt(mean_squared_error(data['Rings'], y_pred))\n",
    "        l.append(error)\n",
    "    ls = [round(x,3) for x in l]\n",
    "    return [ls,y_pred]"
   ]
  },
  {
   "cell_type": "markdown",
   "metadata": {},
   "source": [
    "The prediction accuracy on the training and test data for the different values of degree of \n",
    "the polynomial (p = 2, 3, 4, 5) using root mean squared error (RMSE) :-"
   ]
  },
  {
   "cell_type": "code",
   "execution_count": 19,
   "metadata": {},
   "outputs": [
    {
     "name": "stdout",
     "output_type": "stream",
     "text": [
      "\n",
      "RMSE for Training data :-\n",
      "RMSE Error for p = 2 is 2.08\n",
      "RMSE Error for p = 3 is 1.99\n",
      "RMSE Error for p = 4 is 1.84\n",
      "RMSE Error for p = 5 is 1.64\n",
      "\n",
      "RMSE for Test data :-\n",
      "RMSE Error for p = 2 is 2.05\n",
      "RMSE Error for p = 3 is 1.93\n",
      "RMSE Error for p = 4 is 3.29\n",
      "RMSE Error for p = 5 is 2.02\n"
     ]
    }
   ],
   "source": [
    "p = [2,3,4,5]\n",
    "print(\"\\nRMSE for Training data :-\")\n",
    "for i in range(len(p)):\n",
    "    print(\"RMSE Error for p = %d is %.2f\"%(p[i],multi_poly_pred(X_train)[0][i]))\n",
    "print(\"\\nRMSE for Test data :-\")\n",
    "for i in range(len(p)):\n",
    "    print(\"RMSE Error for p = %d is %.2f\"%(p[i],multi_poly_pred(X_test)[0][i]))"
   ]
  },
  {
   "cell_type": "markdown",
   "metadata": {},
   "source": [
    "Plotting the RMSE vs degree of polynomial graph :-\n",
    "    "
   ]
  },
  {
   "cell_type": "code",
   "execution_count": 20,
   "metadata": {},
   "outputs": [
    {
     "data": {
      "image/png": "[encoded data removed]",
      "text/plain": [
       "<Figure size 432x288 with 1 Axes>"
      ]
     },
     "metadata": {
      "needs_background": "light"
     },
     "output_type": "display_data"
    },
    {
     "data": {
      "image/png": "[encoded data removed]",
      "text/plain": [
       "<Figure size 432x288 with 1 Axes>"
      ]
     },
     "metadata": {
      "needs_background": "light"
     },
     "output_type": "display_data"
    }
   ],
   "source": [
    "plot2('Traning Data',[2,3,4,5],multi_poly_pred(X_train)[0])\n",
    "plot2('Test Data',[2,3,4,5],multi_poly_pred(X_test)[0])"
   ]
  },
  {
   "cell_type": "markdown",
   "metadata": {},
   "source": [
    "Plotting the best fit curve using the best fit model on the training data :-"
   ]
  },
  {
   "cell_type": "code",
   "execution_count": 21,
   "metadata": {},
   "outputs": [
    {
     "data": {
      "image/png": "[encoded data removed]",
      "text/plain": [
       "<Figure size 432x288 with 1 Axes>"
      ]
     },
     "metadata": {
      "needs_background": "light"
     },
     "output_type": "display_data"
    }
   ],
   "source": [
    "plt.title('Best Fit Polynomial') #plotting scatter plot for best fit polynomial\n",
    "plt.xlabel('Shell weight')\n",
    "plt.ylabel(\"Predicted Rings\")\n",
    "plt.scatter(X_train['Shell weight'],multi_poly_pred(X_train)[1])\n",
    "plt.show()"
   ]
  },
  {
   "cell_type": "markdown",
   "metadata": {},
   "source": [
    "Plotting the scatter plot of the actual number of Rings (x-axis) vs the predicted number of Rings (y-axis) on the test data for the best degree of the polynomial (p) :-"
   ]
  },
  {
   "cell_type": "code",
   "execution_count": 22,
   "metadata": {},
   "outputs": [
    {
     "data": {
      "image/png": "[encoded data removed]",
      "text/plain": [
       "<Figure size 432x288 with 1 Axes>"
      ]
     },
     "metadata": {
      "needs_background": "light"
     },
     "output_type": "display_data"
    }
   ],
   "source": [
    "plt.title('Predicted vs Real')\n",
    "plt.xlabel('Actual Rings')\n",
    "plt.ylabel(\"Predicted Rings\")\n",
    "plt.scatter(X_test['Rings'],multi_poly_pred(X_test)[1])\n",
    "plt.show()"
   ]
  },
  {
   "cell_type": "markdown",
   "metadata": {},
   "source": [
    "After applying Four different regression model, we found Multivariate Nonlinear Regression Model for p = 5 to be better than others as it has the least RMSE values than the other models for both training as well test data in predicting no. of rings in Abalone."
   ]
  },
  {
   "cell_type": "markdown",
   "metadata": {},
   "source": [
    "Deployment of the model :-"
   ]
  },
  {
   "cell_type": "code",
   "execution_count": 23,
   "metadata": {},
   "outputs": [],
   "source": [
    "X = X_train.iloc[:, :-1]\n",
    "y = X_train.iloc[:, -1]"
   ]
  },
  {
   "cell_type": "code",
   "execution_count": 48,
   "metadata": {},
   "outputs": [
    {
     "name": "stdout",
     "output_type": "stream",
     "text": [
      "[7.25213991]\n"
     ]
    }
   ],
   "source": [
    "from sklearn.linear_model import LinearRegression\n",
    "regressor = LinearRegression()\n",
    "\n",
    "#Fitting model with trainig data\n",
    "regressor.fit(X, y)\n",
    "\n",
    "# Saving model to disk\n",
    "pickle.dump(regressor, open('model.pkl','wb'))\n",
    "\n",
    "# Loading model to compare the results\n",
    "model = pickle.load(open('model.pkl','rb'))\n",
    "print(model.predict([[0.350, 0.265, 0.090, 0.2255, 0.0995,0.0485, 0.070]]))"
   ]
  },
  {
   "cell_type": "code",
   "execution_count": null,
   "metadata": {},
   "outputs": [],
   "source": []
  }
 ],
 "metadata": {
  "kernelspec": {
   "display_name": "Python 3 (ipykernel)",
   "language": "python",
   "name": "python3"
  },
  "language_info": {
   "codemirror_mode": {
    "name": "ipython",
    "version": 3
   },
   "file_extension": ".py",
   "mimetype": "text/x-python",
   "name": "python",
   "nbconvert_exporter": "python",
   "pygments_lexer": "ipython3",
   "version": "3.9.7"
  }
 },
 "nbformat": 4,
 "nbformat_minor": 4
}
